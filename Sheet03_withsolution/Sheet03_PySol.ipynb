{
 "cells": [
  {
   "cell_type": "markdown",
   "metadata": {
    "slideshow": {
     "slide_type": "skip"
    }
   },
   "source": [
    "# Sheet 3: Solution"
   ]
  },
  {
   "cell_type": "code",
   "execution_count": 6,
   "metadata": {},
   "outputs": [],
   "source": [
    "import numpy as np\n",
    "import pandas as pd\n",
    "%matplotlib inline \n",
    "import matplotlib\n",
    "import matplotlib.pyplot as plt\n",
    "matplotlib.style.use('ggplot')"
   ]
  },
  {
   "cell_type": "markdown",
   "metadata": {},
   "source": [
    "## Exercise 1: Variance of beta"
   ]
  },
  {
   "cell_type": "markdown",
   "metadata": {},
   "source": [
    "To compute the covariance of the components of \n",
    "the vector $\\hat\\beta = (\\mathbf{X}^T \\mathbf{X})^{-1} \\mathbf{X}^T Y$\n",
    "we assume $Y = X^T \\beta + \\epsilon$ with $\\epsilon \\sim \\mathcal{N}(0,\\sigma^2)$, as \n",
    "specified on the sheet. This assumes that the whole randomness of $Y$\n",
    "comes from $\\epsilon$, given knowledge of $X$. Therefore\n",
    "\n",
    "\\begin{align}\n",
    "\\text{Var}_{Y|X}(\\hat\\beta) \n",
    "& = E_{Y|X} \\left[(\\hat\\beta - E_{Y|X}(\\hat\\beta)) (\\hat\\beta - E_{Y|X}(\\hat\\beta))^T\\right] \\\\\n",
    "& = E_{Y|X} \\left[ \\big((\\mathbf{X}^T \\mathbf{X})^{-1} \\mathbf{X}^T (X^T\\beta + \\epsilon) - (\\mathbf{X}^T \\mathbf{X})^{-1} \\mathbf{X}^T X^T\\beta )\\big) \\big(...\\big)^T \\right] \\\\\n",
    "& = E_{Y|X} \\left[ (\\mathbf{X}^T \\mathbf{X})^{-1} \\mathbf{X}^T \\epsilon  \\epsilon \\mathbf{X} (\\mathbf{X}^T \\mathbf{X})^{-1}  \\right] \\\\\n",
    "& = (\\mathbf{X}^T \\mathbf{X})^{-1} \\mathbf{X}^T E_{Y|X} \\left[ \\epsilon  \\epsilon \\right] \\mathbf{X} (\\mathbf{X}^T \\mathbf{X})^{-1} \\\\\n",
    "& = (\\mathbf{X}^T \\mathbf{X})^{-1} \\sigma^2.\n",
    "\\end{align}"
   ]
  },
  {
   "cell_type": "markdown",
   "metadata": {},
   "source": [
    "## Exercise 2: Ridge regression"
   ]
  },
  {
   "cell_type": "code",
   "execution_count": 2,
   "metadata": {},
   "outputs": [
    {
     "data": {
      "text/html": [
       "<div>\n",
       "<style scoped>\n",
       "    .dataframe tbody tr th:only-of-type {\n",
       "        vertical-align: middle;\n",
       "    }\n",
       "\n",
       "    .dataframe tbody tr th {\n",
       "        vertical-align: top;\n",
       "    }\n",
       "\n",
       "    .dataframe thead th {\n",
       "        text-align: right;\n",
       "    }\n",
       "</style>\n",
       "<table border=\"1\" class=\"dataframe\">\n",
       "  <thead>\n",
       "    <tr style=\"text-align: right;\">\n",
       "      <th></th>\n",
       "      <th>lcavol</th>\n",
       "      <th>lweight</th>\n",
       "      <th>age</th>\n",
       "      <th>lbph</th>\n",
       "      <th>svi</th>\n",
       "      <th>lcp</th>\n",
       "      <th>gleason</th>\n",
       "      <th>pgg45</th>\n",
       "      <th>lpsa</th>\n",
       "      <th>train</th>\n",
       "    </tr>\n",
       "  </thead>\n",
       "  <tbody>\n",
       "    <tr>\n",
       "      <th>0</th>\n",
       "      <td>-0.579818</td>\n",
       "      <td>2.769459</td>\n",
       "      <td>50</td>\n",
       "      <td>-1.386294</td>\n",
       "      <td>0</td>\n",
       "      <td>-1.386294</td>\n",
       "      <td>6</td>\n",
       "      <td>0</td>\n",
       "      <td>-0.430783</td>\n",
       "      <td>True</td>\n",
       "    </tr>\n",
       "    <tr>\n",
       "      <th>1</th>\n",
       "      <td>-0.994252</td>\n",
       "      <td>3.319626</td>\n",
       "      <td>58</td>\n",
       "      <td>-1.386294</td>\n",
       "      <td>0</td>\n",
       "      <td>-1.386294</td>\n",
       "      <td>6</td>\n",
       "      <td>0</td>\n",
       "      <td>-0.162519</td>\n",
       "      <td>True</td>\n",
       "    </tr>\n",
       "    <tr>\n",
       "      <th>2</th>\n",
       "      <td>-0.510826</td>\n",
       "      <td>2.691243</td>\n",
       "      <td>74</td>\n",
       "      <td>-1.386294</td>\n",
       "      <td>0</td>\n",
       "      <td>-1.386294</td>\n",
       "      <td>7</td>\n",
       "      <td>20</td>\n",
       "      <td>-0.162519</td>\n",
       "      <td>True</td>\n",
       "    </tr>\n",
       "    <tr>\n",
       "      <th>3</th>\n",
       "      <td>-1.203973</td>\n",
       "      <td>3.282789</td>\n",
       "      <td>58</td>\n",
       "      <td>-1.386294</td>\n",
       "      <td>0</td>\n",
       "      <td>-1.386294</td>\n",
       "      <td>6</td>\n",
       "      <td>0</td>\n",
       "      <td>-0.162519</td>\n",
       "      <td>True</td>\n",
       "    </tr>\n",
       "    <tr>\n",
       "      <th>4</th>\n",
       "      <td>0.751416</td>\n",
       "      <td>3.432373</td>\n",
       "      <td>62</td>\n",
       "      <td>-1.386294</td>\n",
       "      <td>0</td>\n",
       "      <td>-1.386294</td>\n",
       "      <td>6</td>\n",
       "      <td>0</td>\n",
       "      <td>0.371564</td>\n",
       "      <td>True</td>\n",
       "    </tr>\n",
       "    <tr>\n",
       "      <th>5</th>\n",
       "      <td>-1.049822</td>\n",
       "      <td>3.228826</td>\n",
       "      <td>50</td>\n",
       "      <td>-1.386294</td>\n",
       "      <td>0</td>\n",
       "      <td>-1.386294</td>\n",
       "      <td>6</td>\n",
       "      <td>0</td>\n",
       "      <td>0.765468</td>\n",
       "      <td>True</td>\n",
       "    </tr>\n",
       "    <tr>\n",
       "      <th>6</th>\n",
       "      <td>0.737164</td>\n",
       "      <td>3.473518</td>\n",
       "      <td>64</td>\n",
       "      <td>0.615186</td>\n",
       "      <td>0</td>\n",
       "      <td>-1.386294</td>\n",
       "      <td>6</td>\n",
       "      <td>0</td>\n",
       "      <td>0.765468</td>\n",
       "      <td>False</td>\n",
       "    </tr>\n",
       "    <tr>\n",
       "      <th>7</th>\n",
       "      <td>0.693147</td>\n",
       "      <td>3.539509</td>\n",
       "      <td>58</td>\n",
       "      <td>1.536867</td>\n",
       "      <td>0</td>\n",
       "      <td>-1.386294</td>\n",
       "      <td>6</td>\n",
       "      <td>0</td>\n",
       "      <td>0.854415</td>\n",
       "      <td>True</td>\n",
       "    </tr>\n",
       "  </tbody>\n",
       "</table>\n",
       "</div>"
      ],
      "text/plain": [
       "     lcavol   lweight  age      lbph  svi       lcp  gleason  pgg45      lpsa  \\\n",
       "0 -0.579818  2.769459   50 -1.386294    0 -1.386294        6      0 -0.430783   \n",
       "1 -0.994252  3.319626   58 -1.386294    0 -1.386294        6      0 -0.162519   \n",
       "2 -0.510826  2.691243   74 -1.386294    0 -1.386294        7     20 -0.162519   \n",
       "3 -1.203973  3.282789   58 -1.386294    0 -1.386294        6      0 -0.162519   \n",
       "4  0.751416  3.432373   62 -1.386294    0 -1.386294        6      0  0.371564   \n",
       "5 -1.049822  3.228826   50 -1.386294    0 -1.386294        6      0  0.765468   \n",
       "6  0.737164  3.473518   64  0.615186    0 -1.386294        6      0  0.765468   \n",
       "7  0.693147  3.539509   58  1.536867    0 -1.386294        6      0  0.854415   \n",
       "\n",
       "   train  \n",
       "0   True  \n",
       "1   True  \n",
       "2   True  \n",
       "3   True  \n",
       "4   True  \n",
       "5   True  \n",
       "6  False  \n",
       "7   True  "
      ]
     },
     "execution_count": 2,
     "metadata": {},
     "output_type": "execute_result"
    }
   ],
   "source": [
    "\n",
    "\n",
    "pcancer = pd.read_csv(\"prostate.csv\",delimiter=',')\n",
    "\n",
    "pcancer.head(8)"
   ]
  },
  {
   "cell_type": "markdown",
   "metadata": {},
   "source": [
    "Split training and testing data"
   ]
  },
  {
   "cell_type": "code",
   "execution_count": 50,
   "metadata": {},
   "outputs": [
    {
     "data": {
      "text/html": [
       "<div>\n",
       "<style scoped>\n",
       "    .dataframe tbody tr th:only-of-type {\n",
       "        vertical-align: middle;\n",
       "    }\n",
       "\n",
       "    .dataframe tbody tr th {\n",
       "        vertical-align: top;\n",
       "    }\n",
       "\n",
       "    .dataframe thead th {\n",
       "        text-align: right;\n",
       "    }\n",
       "</style>\n",
       "<table border=\"1\" class=\"dataframe\">\n",
       "  <thead>\n",
       "    <tr style=\"text-align: right;\">\n",
       "      <th></th>\n",
       "      <th>lcavol</th>\n",
       "      <th>lweight</th>\n",
       "      <th>age</th>\n",
       "      <th>lbph</th>\n",
       "      <th>svi</th>\n",
       "      <th>lcp</th>\n",
       "      <th>gleason</th>\n",
       "      <th>pgg45</th>\n",
       "    </tr>\n",
       "  </thead>\n",
       "  <tbody>\n",
       "    <tr>\n",
       "      <th>0</th>\n",
       "      <td>-0.579818</td>\n",
       "      <td>2.769459</td>\n",
       "      <td>50</td>\n",
       "      <td>-1.386294</td>\n",
       "      <td>0</td>\n",
       "      <td>-1.386294</td>\n",
       "      <td>6</td>\n",
       "      <td>0</td>\n",
       "    </tr>\n",
       "    <tr>\n",
       "      <th>1</th>\n",
       "      <td>-0.994252</td>\n",
       "      <td>3.319626</td>\n",
       "      <td>58</td>\n",
       "      <td>-1.386294</td>\n",
       "      <td>0</td>\n",
       "      <td>-1.386294</td>\n",
       "      <td>6</td>\n",
       "      <td>0</td>\n",
       "    </tr>\n",
       "    <tr>\n",
       "      <th>2</th>\n",
       "      <td>-0.510826</td>\n",
       "      <td>2.691243</td>\n",
       "      <td>74</td>\n",
       "      <td>-1.386294</td>\n",
       "      <td>0</td>\n",
       "      <td>-1.386294</td>\n",
       "      <td>7</td>\n",
       "      <td>20</td>\n",
       "    </tr>\n",
       "    <tr>\n",
       "      <th>3</th>\n",
       "      <td>-1.203973</td>\n",
       "      <td>3.282789</td>\n",
       "      <td>58</td>\n",
       "      <td>-1.386294</td>\n",
       "      <td>0</td>\n",
       "      <td>-1.386294</td>\n",
       "      <td>6</td>\n",
       "      <td>0</td>\n",
       "    </tr>\n",
       "    <tr>\n",
       "      <th>4</th>\n",
       "      <td>0.751416</td>\n",
       "      <td>3.432373</td>\n",
       "      <td>62</td>\n",
       "      <td>-1.386294</td>\n",
       "      <td>0</td>\n",
       "      <td>-1.386294</td>\n",
       "      <td>6</td>\n",
       "      <td>0</td>\n",
       "    </tr>\n",
       "    <tr>\n",
       "      <th>5</th>\n",
       "      <td>-1.049822</td>\n",
       "      <td>3.228826</td>\n",
       "      <td>50</td>\n",
       "      <td>-1.386294</td>\n",
       "      <td>0</td>\n",
       "      <td>-1.386294</td>\n",
       "      <td>6</td>\n",
       "      <td>0</td>\n",
       "    </tr>\n",
       "    <tr>\n",
       "      <th>7</th>\n",
       "      <td>0.693147</td>\n",
       "      <td>3.539509</td>\n",
       "      <td>58</td>\n",
       "      <td>1.536867</td>\n",
       "      <td>0</td>\n",
       "      <td>-1.386294</td>\n",
       "      <td>6</td>\n",
       "      <td>0</td>\n",
       "    </tr>\n",
       "    <tr>\n",
       "      <th>10</th>\n",
       "      <td>0.254642</td>\n",
       "      <td>3.604138</td>\n",
       "      <td>65</td>\n",
       "      <td>-1.386294</td>\n",
       "      <td>0</td>\n",
       "      <td>-1.386294</td>\n",
       "      <td>6</td>\n",
       "      <td>0</td>\n",
       "    </tr>\n",
       "  </tbody>\n",
       "</table>\n",
       "</div>"
      ],
      "text/plain": [
       "      lcavol   lweight  age      lbph  svi       lcp  gleason  pgg45\n",
       "0  -0.579818  2.769459   50 -1.386294    0 -1.386294        6      0\n",
       "1  -0.994252  3.319626   58 -1.386294    0 -1.386294        6      0\n",
       "2  -0.510826  2.691243   74 -1.386294    0 -1.386294        7     20\n",
       "3  -1.203973  3.282789   58 -1.386294    0 -1.386294        6      0\n",
       "4   0.751416  3.432373   62 -1.386294    0 -1.386294        6      0\n",
       "5  -1.049822  3.228826   50 -1.386294    0 -1.386294        6      0\n",
       "7   0.693147  3.539509   58  1.536867    0 -1.386294        6      0\n",
       "10  0.254642  3.604138   65 -1.386294    0 -1.386294        6      0"
      ]
     },
     "execution_count": 50,
     "metadata": {},
     "output_type": "execute_result"
    }
   ],
   "source": [
    "# There's a training sub-dataset that we will focus on. Later, we will try to predict\n",
    "# the values of the remaining observations.\n",
    "col_num = 8\n",
    "Xtrain = pcancer.loc[pcancer['train'] == True,pcancer.columns[0:col_num]]\n",
    "ytrain = pcancer.loc[pcancer['train'] == True,pcancer.columns[col_num]]\n",
    "Xtrain.head(8)\n"
   ]
  },
  {
   "cell_type": "code",
   "execution_count": 49,
   "metadata": {},
   "outputs": [
    {
     "data": {
      "text/html": [
       "<div>\n",
       "<style scoped>\n",
       "    .dataframe tbody tr th:only-of-type {\n",
       "        vertical-align: middle;\n",
       "    }\n",
       "\n",
       "    .dataframe tbody tr th {\n",
       "        vertical-align: top;\n",
       "    }\n",
       "\n",
       "    .dataframe thead th {\n",
       "        text-align: right;\n",
       "    }\n",
       "</style>\n",
       "<table border=\"1\" class=\"dataframe\">\n",
       "  <thead>\n",
       "    <tr style=\"text-align: right;\">\n",
       "      <th></th>\n",
       "      <th>lcavol</th>\n",
       "      <th>lweight</th>\n",
       "      <th>age</th>\n",
       "      <th>lbph</th>\n",
       "      <th>svi</th>\n",
       "      <th>lcp</th>\n",
       "      <th>gleason</th>\n",
       "      <th>pgg45</th>\n",
       "    </tr>\n",
       "  </thead>\n",
       "  <tbody>\n",
       "    <tr>\n",
       "      <th>6</th>\n",
       "      <td>0.737164</td>\n",
       "      <td>3.473518</td>\n",
       "      <td>64</td>\n",
       "      <td>0.615186</td>\n",
       "      <td>0</td>\n",
       "      <td>-1.386294</td>\n",
       "      <td>6</td>\n",
       "      <td>0</td>\n",
       "    </tr>\n",
       "    <tr>\n",
       "      <th>8</th>\n",
       "      <td>-0.776529</td>\n",
       "      <td>3.539509</td>\n",
       "      <td>47</td>\n",
       "      <td>-1.386294</td>\n",
       "      <td>0</td>\n",
       "      <td>-1.386294</td>\n",
       "      <td>6</td>\n",
       "      <td>0</td>\n",
       "    </tr>\n",
       "    <tr>\n",
       "      <th>9</th>\n",
       "      <td>0.223144</td>\n",
       "      <td>3.244544</td>\n",
       "      <td>63</td>\n",
       "      <td>-1.386294</td>\n",
       "      <td>0</td>\n",
       "      <td>-1.386294</td>\n",
       "      <td>6</td>\n",
       "      <td>0</td>\n",
       "    </tr>\n",
       "    <tr>\n",
       "      <th>14</th>\n",
       "      <td>1.205971</td>\n",
       "      <td>3.442019</td>\n",
       "      <td>57</td>\n",
       "      <td>-1.386294</td>\n",
       "      <td>0</td>\n",
       "      <td>-0.430783</td>\n",
       "      <td>7</td>\n",
       "      <td>5</td>\n",
       "    </tr>\n",
       "    <tr>\n",
       "      <th>21</th>\n",
       "      <td>2.059239</td>\n",
       "      <td>3.501043</td>\n",
       "      <td>60</td>\n",
       "      <td>1.474763</td>\n",
       "      <td>0</td>\n",
       "      <td>1.348073</td>\n",
       "      <td>7</td>\n",
       "      <td>20</td>\n",
       "    </tr>\n",
       "    <tr>\n",
       "      <th>24</th>\n",
       "      <td>0.385262</td>\n",
       "      <td>3.667400</td>\n",
       "      <td>69</td>\n",
       "      <td>1.599388</td>\n",
       "      <td>0</td>\n",
       "      <td>-1.386294</td>\n",
       "      <td>6</td>\n",
       "      <td>0</td>\n",
       "    </tr>\n",
       "    <tr>\n",
       "      <th>25</th>\n",
       "      <td>1.446919</td>\n",
       "      <td>3.124565</td>\n",
       "      <td>68</td>\n",
       "      <td>0.300105</td>\n",
       "      <td>0</td>\n",
       "      <td>-1.386294</td>\n",
       "      <td>6</td>\n",
       "      <td>0</td>\n",
       "    </tr>\n",
       "    <tr>\n",
       "      <th>27</th>\n",
       "      <td>-0.400478</td>\n",
       "      <td>3.865979</td>\n",
       "      <td>67</td>\n",
       "      <td>1.816452</td>\n",
       "      <td>0</td>\n",
       "      <td>-1.386294</td>\n",
       "      <td>7</td>\n",
       "      <td>20</td>\n",
       "    </tr>\n",
       "  </tbody>\n",
       "</table>\n",
       "</div>"
      ],
      "text/plain": [
       "      lcavol   lweight  age      lbph  svi       lcp  gleason  pgg45\n",
       "6   0.737164  3.473518   64  0.615186    0 -1.386294        6      0\n",
       "8  -0.776529  3.539509   47 -1.386294    0 -1.386294        6      0\n",
       "9   0.223144  3.244544   63 -1.386294    0 -1.386294        6      0\n",
       "14  1.205971  3.442019   57 -1.386294    0 -0.430783        7      5\n",
       "21  2.059239  3.501043   60  1.474763    0  1.348073        7     20\n",
       "24  0.385262  3.667400   69  1.599388    0 -1.386294        6      0\n",
       "25  1.446919  3.124565   68  0.300105    0 -1.386294        6      0\n",
       "27 -0.400478  3.865979   67  1.816452    0 -1.386294        7     20"
      ]
     },
     "execution_count": 49,
     "metadata": {},
     "output_type": "execute_result"
    }
   ],
   "source": [
    "Xtest = pcancer.loc[pcancer['train'] == False,pcancer.columns[0:col_num]]\n",
    "ytest = pcancer.loc[pcancer['train'] == False,pcancer.columns[col_num]]\n",
    "Xtest.head(8)"
   ]
  },
  {
   "cell_type": "code",
   "execution_count": 51,
   "metadata": {},
   "outputs": [
    {
     "data": {
      "image/png": "[encoded data removed]",
      "text/plain": [
       "<Figure size 432x288 with 9 Axes>"
      ]
     },
     "metadata": {},
     "output_type": "display_data"
    }
   ],
   "source": [
    "# Analysis of prostate-specific antigen and clinical measures\n",
    "# among men who were about to have their prostates removed\n",
    "# - lcavol : log(cancer volume)\n",
    "# - lweight : log(prostate weight)\n",
    "# - age : age\n",
    "# - lbph : log(benign prostatic hyperplasia)\n",
    "# - svi : seminal vesicle invasion\n",
    "# - lcp : log(capsular penetration)\n",
    "# - gleason : Gleason score\n",
    "# - pgg45 : percent of Gleason scores 4 or 5\n",
    "\n",
    "# - lpsa : log(prostate-specific antigen)\n",
    "\n",
    "Xtrain.plot(kind = 'density', subplots = True, layout = (3,3),sharex=False)\n",
    "plt.show()"
   ]
  },
  {
   "cell_type": "code",
   "execution_count": 52,
   "metadata": {},
   "outputs": [
    {
     "data": {
      "text/plain": [
       "[Text(0, 0, 'lcavol'),\n",
       " Text(0, 0, 'lweight'),\n",
       " Text(0, 0, 'age'),\n",
       " Text(0, 0, 'lbph'),\n",
       " Text(0, 0, 'svi'),\n",
       " Text(0, 0, 'lcp'),\n",
       " Text(0, 0, 'gleason'),\n",
       " Text(0, 0, 'pgg45')]"
      ]
     },
     "execution_count": 52,
     "metadata": {},
     "output_type": "execute_result"
    },
    {
     "data": {
      "image/png": "[encoded data removed]",
      "text/plain": [
       "<Figure size 432x288 with 2 Axes>"
      ]
     },
     "metadata": {},
     "output_type": "display_data"
    }
   ],
   "source": [
    "# We see that there are many strong correlations between features\n",
    "# and lpsa. Therefore we need to fit the effects jointly to\n",
    "# disentangle the relationships between the features and lpsa.\n",
    "\n",
    "names = list(Xtrain)\n",
    "correlations = Xtrain.corr()\n",
    "fig = plt.figure()\n",
    "ax = fig.add_subplot(111)\n",
    "cax = ax.matshow(correlations, vmin = -1, vmax = 1)\n",
    "fig.colorbar(cax)\n",
    "ticks = np.arange(0,9,1)\n",
    "ax.set_xticks(ticks)\n",
    "ax.set_yticks(ticks)\n",
    "ax.set_xticklabels(names)\n",
    "ax.set_yticklabels(names)"
   ]
  },
  {
   "cell_type": "code",
   "execution_count": 53,
   "metadata": {},
   "outputs": [
    {
     "name": "stdout",
     "output_type": "stream",
     "text": [
      "lcavol      1.313492\n",
      "lweight     3.626108\n",
      "age        64.746269\n",
      "lbph        0.071440\n",
      "svi         0.223881\n",
      "lcp        -0.214203\n",
      "gleason     6.731343\n",
      "pgg45      26.268657\n",
      "dtype: float64\n",
      "lcavol      1.233282\n",
      "lweight     0.473031\n",
      "age         7.446011\n",
      "lbph        1.452691\n",
      "svi         0.416843\n",
      "lcp         1.390243\n",
      "gleason     0.703554\n",
      "pgg45      29.082272\n",
      "dtype: float64\n"
     ]
    }
   ],
   "source": [
    "# scale data sets to have zero mean and unit variance, but do not adjust lpsa\n",
    "from sklearn import linear_model,preprocessing\n",
    "\n",
    "\n",
    "# Xtrain = preprocessing.scale(Xtrain)\n",
    "Xtrain_mean = np.mean(Xtrain)\n",
    "Xtrain_std = np.std(Xtrain)\n",
    "print(Xtrain_mean)\n",
    "print(Xtrain_std)\n",
    "# Scale training data to have zero mean and unit variance (standard derivation)\n",
    "Xtrain = (Xtrain-Xtrain_mean)/Xtrain_std\n",
    "\n",
    "Xtest.head(8)\n",
    "# Scale testing data using training mean and trainig standard derivation\n",
    "Xtest = (Xtest-Xtrain_mean)/Xtrain_std\n",
    "# Xtest = preprocessing.scale(Xtest)\n"
   ]
  },
  {
   "cell_type": "code",
   "execution_count": 54,
   "metadata": {},
   "outputs": [
    {
     "name": "stdout",
     "output_type": "stream",
     "text": [
      "[1.96903844 1.16995577 1.26117929 1.88375914 2.54431886 1.93275402\n",
      " 2.04233571 1.83091625 1.99115929 1.32347076 2.93843111 2.20314404\n",
      " 2.166421   2.79456237 2.67466879 2.18057291 2.40211068 3.02351576\n",
      " 3.21122283 1.38441459 3.41751878 3.70741749 2.54118337 2.72969658\n",
      " 2.64055575 3.48060024 3.17136269 3.2923494  3.11889686 3.76383999]\n",
      "6     0.765468\n",
      "8     1.047319\n",
      "9     1.047319\n",
      "14    1.398717\n",
      "21    1.658228\n",
      "24    1.731656\n",
      "25    1.766442\n",
      "27    1.816452\n",
      "31    2.008214\n",
      "33    2.021548\n",
      "35    2.085672\n",
      "41    2.307573\n",
      "43    2.374906\n",
      "47    2.568788\n",
      "48    2.591516\n",
      "49    2.591516\n",
      "52    2.684440\n",
      "53    2.691243\n",
      "54    2.704711\n",
      "56    2.788093\n",
      "61    2.853592\n",
      "63    2.882004\n",
      "64    2.882004\n",
      "65    2.887590\n",
      "72    3.056357\n",
      "73    3.075006\n",
      "79    3.513037\n",
      "83    3.570940\n",
      "94    5.143124\n",
      "96    5.582932\n",
      "Name: lpsa, dtype: float64\n"
     ]
    }
   ],
   "source": [
    "from sklearn.linear_model import LinearRegression\n",
    "linear_reg = LinearRegression(fit_intercept=True).fit(Xtrain, ytrain)\n",
    "print(linear_reg.predict(Xtest))\n",
    "print(ytest)"
   ]
  },
  {
   "cell_type": "code",
   "execution_count": 31,
   "metadata": {},
   "outputs": [],
   "source": [
    "from sklearn.linear_model import Ridge\n",
    "n_alphas = 5000\n",
    "lam= np.logspace(-10, 3, n_alphas)\n",
    "model_ridge_coef = np.zeros((lam.shape[0],9))\n",
    "sample_num = Xtrain.shape[0]\n",
    "for i in range(lam.shape[0]):\n",
    "    model_ridge = Ridge(alpha=lam[i], fit_intercept=True)\n",
    "    model_ridge.fit(Xtrain, ytrain)\n",
    "    model_ridge_coef[i,:]=np.concatenate((model_ridge.intercept_.reshape(-1),model_ridge.coef_),axis=0)\n",
    "    "
   ]
  },
  {
   "cell_type": "code",
   "execution_count": 32,
   "metadata": {},
   "outputs": [
    {
     "data": {
      "text/plain": [
       "Text(0.5, 0, 'Regularisation parameter $\\\\lambda$')"
      ]
     },
     "execution_count": 32,
     "metadata": {},
     "output_type": "execute_result"
    },
    {
     "data": {
      "image/png": "[encoded data removed]",
      "text/plain": [
       "<Figure size 432x288 with 1 Axes>"
      ]
     },
     "metadata": {},
     "output_type": "display_data"
    }
   ],
   "source": [
    "plt.figure()\n",
    "plt.plot(lam,model_ridge_coef[:,1:-1])\n",
    "plt.ylim(-0.4,0.8)\n",
    "plt.xlim(min(lam),max(lam))\n",
    "plt.legend(names[0:8])\n",
    "plt.ylabel('Beta')\n",
    "plt.xlabel('Regularisation parameter $\\lambda$')"
   ]
  },
  {
   "cell_type": "markdown",
   "metadata": {},
   "source": [
    "The number of degrees of freedom is given as: \n",
    "    $df(\\lambda)=\\text{tr}[\\mathbf{X}(\\mathbf{X}^T \\mathbf{X}+\\lambda\\mathbf{I})^{-1}\\mathbf{X}^T]$\n",
    "    "
   ]
  },
  {
   "cell_type": "code",
   "execution_count": 33,
   "metadata": {},
   "outputs": [],
   "source": [
    "# compute the degrees of freedom for each value of lambda\n",
    "D = np.concatenate((np.ones(Xtrain.shape[0]).reshape(-1,1),Xtrain),axis=1)\n",
    "# print(np.concatenate((np.ones(Xtrain.shape[0]).reshape(-1,1),Xtrain),axis=1))\n",
    "for i in range(lam.shape[0]):\n",
    "    lam_i = lam[i]\n",
    "    # compute the ridge-regression beta hat estimates:\n",
    "    iden_mat = np.zeros((col_num+1,col_num+1))\n",
    "    np.fill_diagonal(iden_mat,1)\n",
    "    M = np.linalg.pinv(np.transpose(D).dot(D)+lam[i]*iden_mat).dot(np.transpose(D))\n",
    "    # this is just an alternative way of estimating the coefficients of the Ridge regression  \n",
    "    betaHat = M.dot(ytrain)\n",
    "    # compute the degrees of freedom for this values of lambda:\n",
    "    dof = np.sum( np.diag(D.dot(M)) ) \n",
    "    # each column is a different value of the complexity parameter ...\n",
    "    if i == 0:\n",
    "        betaRes = betaHat.reshape(-1,1)\n",
    "        dofRes = dof\n",
    "    else:\n",
    "        betaRes = np.concatenate((betaRes,betaHat.reshape(-1,1)),axis=1)\n",
    "        dofRes = np.append(dofRes,dof)"
   ]
  },
  {
   "cell_type": "markdown",
   "metadata": {},
   "source": [
    "Plot the calcuated betaRes as a function of dofRes (degree of freedom)"
   ]
  },
  {
   "cell_type": "code",
   "execution_count": 34,
   "metadata": {},
   "outputs": [
    {
     "name": "stdout",
     "output_type": "stream",
     "text": [
      "(5000, 9)\n"
     ]
    },
    {
     "data": {
      "text/plain": [
       "Text(0, 0.5, 'Beta')"
      ]
     },
     "execution_count": 34,
     "metadata": {},
     "output_type": "execute_result"
    },
    {
     "data": {
      "image/png": "[encoded data removed]",
      "text/plain": [
       "<Figure size 432x288 with 1 Axes>"
      ]
     },
     "metadata": {},
     "output_type": "display_data"
    }
   ],
   "source": [
    "print(np.transpose(betaRes).shape)\n",
    "plt.figure()\n",
    "plt.plot(dofRes,np.transpose(betaRes[1:,:]))\n",
    "plt.ylim(-0.4,0.8)\n",
    "plt.xlim(-1,9)\n",
    "plt.legend(names[0:8])\n",
    "plt.xlabel('Degree of freedom')\n",
    "plt.ylabel('Beta')"
   ]
  },
  {
   "cell_type": "markdown",
   "metadata": {},
   "source": [
    "Make a comparison with the ridge coefficients outputed by Sklearn build-in functions"
   ]
  },
  {
   "cell_type": "code",
   "execution_count": 35,
   "metadata": {},
   "outputs": [
    {
     "name": "stdout",
     "output_type": "stream",
     "text": [
      "(9, 5000)\n"
     ]
    },
    {
     "data": {
      "text/plain": [
       "Text(0, 0.5, 'Beta')"
      ]
     },
     "execution_count": 35,
     "metadata": {},
     "output_type": "execute_result"
    },
    {
     "data": {
      "image/png": "[encoded data removed]",
      "text/plain": [
       "<Figure size 432x288 with 1 Axes>"
      ]
     },
     "metadata": {},
     "output_type": "display_data"
    }
   ],
   "source": [
    "print(np.transpose(model_ridge_coef).shape)\n",
    "plt.figure()\n",
    "plt.plot(dofRes,model_ridge_coef[:,1:])\n",
    "plt.ylim(-0.4,0.8)\n",
    "plt.xlim(-1,9)\n",
    "plt.legend(names[0:8])\n",
    "plt.xlabel('Degree of freedom')\n",
    "plt.ylabel('Beta')"
   ]
  },
  {
   "cell_type": "code",
   "execution_count": 36,
   "metadata": {},
   "outputs": [
    {
     "name": "stdout",
     "output_type": "stream",
     "text": [
      "optimal regression strength lambda is: 3.6367390713831975\n"
     ]
    }
   ],
   "source": [
    "from sklearn.linear_model import RidgeCV\n",
    "optim_ridge = RidgeCV(alphas=lam,fit_intercept=True).fit(Xtrain, ytrain)\n",
    "print('optimal regression strength lambda is:', optim_ridge.alpha_)"
   ]
  },
  {
   "cell_type": "code",
   "execution_count": 37,
   "metadata": {},
   "outputs": [
    {
     "name": "stdout",
     "output_type": "stream",
     "text": [
      "training error of ridge regression: 5.455644395678778\n",
      "training error of linear regression: 5.424609152732425\n",
      "testing error of ridge regression: 3.866536391680983\n",
      "testing error of linear regression: 3.9545189549713884\n"
     ]
    }
   ],
   "source": [
    "print('training error of ridge regression:',np.linalg.norm(np.array(ytrain) - optim_ridge.predict(Xtrain)))\n",
    "print('training error of linear regression:',np.linalg.norm(np.array(ytrain)-linear_reg.predict(Xtrain)))\n",
    "print('testing error of ridge regression:',np.linalg.norm(np.array(ytest) - optim_ridge.predict(Xtest)))\n",
    "print('testing error of linear regression:',np.linalg.norm(np.array(ytest)-linear_reg.predict(Xtest)))"
   ]
  },
  {
   "cell_type": "markdown",
   "metadata": {},
   "source": [
    "## Exercise 3: knn and linear regression compared"
   ]
  },
  {
   "cell_type": "markdown",
   "metadata": {},
   "source": [
    "Note: In the exercise, the notatin is wrong: Data matrices and random variables are denoted with the same symbol, e.g. $X$. Next time, change this!\n",
    "\n",
    "For simplicity we assume that $y$ and $x$ are scalars, $X \\subset \\mathbb R, Y \\subset \\mathbb R, $. Then we can write $Y^T = (y_1,\\ldots,y_n)$ and $X^T = \\begin{pmatrix}\n",
    "  1 & \\ldots & 1 \\\\\n",
    "  x_1 & \\ldots & x_n \n",
    " \\end{pmatrix}$ "
   ]
  },
  {
   "cell_type": "markdown",
   "metadata": {},
   "source": [
    "<b>Part 1. \n",
    "+ Linear Regression.</b> From exercise 1, we have $\\hat \\beta = (X^T X)^{-1} X^T Y$ and then set\n",
    "\n",
    "$$ f_S(x_0) = [x_0 1] \\hat \\beta = [x_0 1] (X^T X)^{-1} X^T Y.$$\n",
    "\n",
    "Then, $\\omega_i(x_0, X) = [x_0 1] (X^T X)^{-1} \\begin{bmatrix} 1 \\\\ x_i \\end{bmatrix},$ for each $i: 1\\leq i \\leq n.$\n",
    "\n",
    " We can also write more explicitly, \n",
    "    $X^T X = \n",
    "    \\begin{pmatrix}\n",
    "    n & \\sum x_i \\\\\n",
    "    \\sum x_i & \\sum x_i^2 \n",
    "    \\end{pmatrix},$\n",
    "    \n",
    " which has determinant $(n-1) \\sum_i x_i^2 - 2n \\sum_{i<j} x_i x_j.$ This allows us to calculate $(X^T X)^{-1}$ and $\\omega_i(x_0, X)$ even more explicitly. \n",
    "    \n",
    "+ <b>k-NN.</b>  The weights are equal $\\omega_i(x_0, X) = \\frac 1k$ if $x_i$ is one of the nearest\n",
    "$k$ points and 0 otherwise.\n",
    "\n",
    "   "
   ]
  },
  {
   "cell_type": "markdown",
   "metadata": {},
   "source": [
    "<b>Part 2. </b> By a standard decomposition,\n",
    "$$\n",
    "E_{Y|X} ( (f(x_0) - f_S(x_0))^2 )= f(x_0)^2 - 2 f(x_0) E_{Y|X} (f_S(x_0)) + E_{Y|X} ((f_S(x_0))^2) \\\\\n",
    "= (f(x_0) - E_{Y|X} (f_S(x_0)))^2 + E_{Y|X} ((f_S(x_0))^2) - (E_{Y|X} (f_S(x_0)))^2 \\\\\n",
    "= (f(x_0) - E_{Y|X} (f_S(x_0)))^2 + \\mathtt{Var}_{Y|X} (f_S(x_0))\n",
    "$$\n",
    "\n",
    "The\n",
    "first term on the right hand side is the squared conditional bias, whereas the second term is the conditional variance. Because of the conditioning,\n",
    "we have, for linear estimators,\n",
    "$$\\mathtt{Var}_{Y|X} (f_S(x_0)) = \\sigma^2 \\sum_i \\omega_i^2 (x_0, X)$$\n",
    "\n",
    "and\n",
    "\n",
    "$$ \\mathtt{Bias}_{Y|X}^2 (f_S(x_0)) = \\left(f(x_0)  - \\sum_i \\omega_i (x_0, X) f(x_i)  \\right)^2$$ "
   ]
  },
  {
   "cell_type": "markdown",
   "metadata": {},
   "source": [
    "<b>Part 3. </b> The calculation goes into the same way as in Part 2, except that both $X$ and $Y$ vary.\n",
    "\n",
    "$$\n",
    "E_{X,Y} ( (f(x_0) - f_S(x_0))^2 )= f(x_0)^2 - 2 f(x_0) E_{X,Y} (f_S(x_0)) + E_{X,Y} (f_S(x_0))^2 \\\\\n",
    "= (f(x_0) - E_{X,Y} (f_S(x_0)))^2 + E_{X,Y} (f_S(x_0))^2 - (E_{X,Y} (f_S(x_0)))^2 \\\\\n",
    "= \\mathtt{Bias}^2 (f_s(x_0)) + \\mathtt{Var} (f_S(x_0)).\n",
    "$$\n",
    "\n",
    "The\n",
    "first term on the right hand side is the squared unconditional bias, whereas the second term is the unconditional variance of $f_S.$ For linear estimators of $f$ by the conditional variance identity\n",
    "\n",
    "$$\n",
    "\\mathtt{Var} (Y) = E \\mathtt{Var}(Y|X) + \\mathtt{Var} E(Y|X),\n",
    "$$\n",
    "\n",
    "we have\n",
    "\n",
    "$$\n",
    "\\mathtt{Var}_{X,Y} (f_S (x_0)) = E_X \\mathtt{Var}_{Y|X} (f_S(x_0)) + \\mathtt{Var}_X E_{Y|X} (f_S(x_0)) = \\sigma^2 \\sum_i E(\\omega_i^2 (x_0, X)) + \\mathtt{Var} \\left( \\sum_i \\omega_i (x_0, X) f(x_i) \\right).\n",
    "$$\n",
    "\n",
    "For the bias:\n",
    "\n",
    "$$\n",
    " \\mathtt{Bias}^2_{X,Y} (f_s(x_0)) = \\left(f(x_0)  - \\sum_i E(\\omega_i (x_0, X) f(x_i) ) \\right)^2.$$ \n",
    "\n",
    "\n",
    "<b> Additional discussion: </b> By the property of expectation,\n",
    "$$\n",
    "E_{X,Y} (f(x_0) - f_S(x_0))^2 = E_X \\left[ E_{Y|X} (f(x_0) - f_S(x_0))^2  \\right] = E_X \\left[\\mathtt{Var}_{Y|X} (f_S(x_0)) \\right] + E_X \\left[\\mathtt{Bias}_{Y|X}^2 (f_S(x_0)) \\right].$$\n",
    "\n",
    "But on the other hand, by the decomposition derived above in\n",
    "conjunction with the conditional variance identity we have,\n",
    "$$\n",
    "E_{X,Y} (f(x_0) - f_S(x_0))^2 = E_X \\left[\\mathtt{Var}_{Y|X} (f_S(x_0)) \\right] + \\mathtt{Var}_X \\left[E_{Y|X} (f_S(x_0)) \\right] + \\mathtt{Bias}_{Y,X}^2 (f_S(x_0)).\n",
    "$$\n",
    "\n",
    "Therefore the average conditional squared bias is larger than the unconditional squared bias; the difference is the variance of the conditional\n",
    "expectation of the estimator."
   ]
  },
  {
   "cell_type": "code",
   "execution_count": null,
   "metadata": {},
   "outputs": [],
   "source": []
  }
 ],
 "metadata": {
  "kernelspec": {
   "display_name": "Python 3",
   "language": "python",
   "name": "python3"
  },
  "language_info": {
   "codemirror_mode": {
    "name": "ipython",
    "version": 3
   },
   "file_extension": ".py",
   "mimetype": "text/x-python",
   "name": "python",
   "nbconvert_exporter": "python",
   "pygments_lexer": "ipython3",
   "version": "3.5.5"
  }
 },
 "nbformat": 4,
 "nbformat_minor": 1
}

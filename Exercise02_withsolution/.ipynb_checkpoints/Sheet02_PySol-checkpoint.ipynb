{
 "cells": [
  {
   "cell_type": "markdown",
   "metadata": {},
   "source": [
    "# Sheet 2: Solution"
   ]
  },
  {
   "cell_type": "markdown",
   "metadata": {},
   "source": [
    "First, import a few commonly-used functions"
   ]
  },
  {
   "cell_type": "code",
   "execution_count": 1,
   "metadata": {},
   "outputs": [],
   "source": [
    "%matplotlib inline \n",
    "import numpy as np\n",
    "import matplotlib.pyplot as plt\n",
    "import pandas as pd"
   ]
  },
  {
   "cell_type": "markdown",
   "metadata": {},
   "source": [
    "# Exercise 1: Bias-variance tradeoff for k-nearest-neighbors (knn) classifier"
   ]
  },
  {
   "cell_type": "code",
   "execution_count": 2,
   "metadata": {},
   "outputs": [
    {
     "data": {
      "text/html": [
       "<div>\n",
       "<style scoped>\n",
       "    .dataframe tbody tr th:only-of-type {\n",
       "        vertical-align: middle;\n",
       "    }\n",
       "\n",
       "    .dataframe tbody tr th {\n",
       "        vertical-align: top;\n",
       "    }\n",
       "\n",
       "    .dataframe thead th {\n",
       "        text-align: right;\n",
       "    }\n",
       "</style>\n",
       "<table border=\"1\" class=\"dataframe\">\n",
       "  <thead>\n",
       "    <tr style=\"text-align: right;\">\n",
       "      <th></th>\n",
       "      <th>Sepal_length</th>\n",
       "      <th>Sepal_width</th>\n",
       "      <th>Petal_length</th>\n",
       "      <th>Petal_width</th>\n",
       "      <th>Species</th>\n",
       "    </tr>\n",
       "  </thead>\n",
       "  <tbody>\n",
       "    <tr>\n",
       "      <th>0</th>\n",
       "      <td>5.1</td>\n",
       "      <td>3.5</td>\n",
       "      <td>1.4</td>\n",
       "      <td>0.2</td>\n",
       "      <td>Iris-setosa</td>\n",
       "    </tr>\n",
       "    <tr>\n",
       "      <th>1</th>\n",
       "      <td>4.9</td>\n",
       "      <td>3.0</td>\n",
       "      <td>1.4</td>\n",
       "      <td>0.2</td>\n",
       "      <td>Iris-setosa</td>\n",
       "    </tr>\n",
       "    <tr>\n",
       "      <th>2</th>\n",
       "      <td>4.7</td>\n",
       "      <td>3.2</td>\n",
       "      <td>1.3</td>\n",
       "      <td>0.2</td>\n",
       "      <td>Iris-setosa</td>\n",
       "    </tr>\n",
       "    <tr>\n",
       "      <th>3</th>\n",
       "      <td>4.6</td>\n",
       "      <td>3.1</td>\n",
       "      <td>1.5</td>\n",
       "      <td>0.2</td>\n",
       "      <td>Iris-setosa</td>\n",
       "    </tr>\n",
       "    <tr>\n",
       "      <th>4</th>\n",
       "      <td>5.0</td>\n",
       "      <td>3.6</td>\n",
       "      <td>1.4</td>\n",
       "      <td>0.2</td>\n",
       "      <td>Iris-setosa</td>\n",
       "    </tr>\n",
       "    <tr>\n",
       "      <th>5</th>\n",
       "      <td>5.4</td>\n",
       "      <td>3.9</td>\n",
       "      <td>1.7</td>\n",
       "      <td>0.4</td>\n",
       "      <td>Iris-setosa</td>\n",
       "    </tr>\n",
       "    <tr>\n",
       "      <th>6</th>\n",
       "      <td>4.6</td>\n",
       "      <td>3.4</td>\n",
       "      <td>1.4</td>\n",
       "      <td>0.3</td>\n",
       "      <td>Iris-setosa</td>\n",
       "    </tr>\n",
       "    <tr>\n",
       "      <th>7</th>\n",
       "      <td>5.0</td>\n",
       "      <td>3.4</td>\n",
       "      <td>1.5</td>\n",
       "      <td>0.2</td>\n",
       "      <td>Iris-setosa</td>\n",
       "    </tr>\n",
       "  </tbody>\n",
       "</table>\n",
       "</div>"
      ],
      "text/plain": [
       "   Sepal_length  Sepal_width  Petal_length  Petal_width      Species\n",
       "0           5.1          3.5           1.4          0.2  Iris-setosa\n",
       "1           4.9          3.0           1.4          0.2  Iris-setosa\n",
       "2           4.7          3.2           1.3          0.2  Iris-setosa\n",
       "3           4.6          3.1           1.5          0.2  Iris-setosa\n",
       "4           5.0          3.6           1.4          0.2  Iris-setosa\n",
       "5           5.4          3.9           1.7          0.4  Iris-setosa\n",
       "6           4.6          3.4           1.4          0.3  Iris-setosa\n",
       "7           5.0          3.4           1.5          0.2  Iris-setosa"
      ]
     },
     "execution_count": 2,
     "metadata": {},
     "output_type": "execute_result"
    }
   ],
   "source": [
    "iris = pd.read_csv(\"http://archive.ics.uci.edu/ml/machine-learning-databases/iris/iris.data\",header=None)\n",
    "iris.columns = [\"Sepal_length\", \"Sepal_width\", \"Petal_length\", \"Petal_width\", \"Species\"]\n",
    "iris.head(8)"
   ]
  },
  {
   "cell_type": "markdown",
   "metadata": {},
   "source": [
    "Divide the data set into train and test as done on exercise sheet 1."
   ]
  },
  {
   "cell_type": "code",
   "execution_count": 3,
   "metadata": {},
   "outputs": [],
   "source": [
    "from sklearn.model_selection import train_test_split\n",
    "from sklearn.preprocessing import normalize\n",
    "\n",
    "iris.columns = [\"Sepal_length\", \"Sepal_width\", \"Petal_length\", \"Petal_width\", \"Species\"]\n",
    "X=iris[['Sepal_length', 'Sepal_width', 'Petal_length', 'Petal_width']]  # Features\n",
    "y=iris['Species']  # Labels\n",
    "\n",
    "# Normalise features\n",
    "X_norm =normalize(X)\n",
    "# Split dataset into training set and test set\n",
    "X_train, X_test, y_train, y_test = train_test_split(X_norm, y, test_size=0.5) # 50% training and 50% test"
   ]
  },
  {
   "cell_type": "markdown",
   "metadata": {},
   "source": [
    "After splitting, you will train the model on the training set."
   ]
  },
  {
   "cell_type": "code",
   "execution_count": 6,
   "metadata": {},
   "outputs": [],
   "source": [
    "#Import knn Model\n",
    "from sklearn.neighbors import KNeighborsClassifier\n",
    "from sklearn.metrics import accuracy_score\n",
    "\n",
    "#Create a knn Classifier\n",
    "acc_train = np.zeros(15)\n",
    "acc_test = np.zeros(15)\n",
    "for i,knn_neighbors in enumerate(np.arange(1,30,2)):\n",
    "    knnmodel = KNeighborsClassifier(n_neighbors=knn_neighbors)\n",
    "    knnmodel.fit(X_train, y_train) \n",
    "    acc_train[i] = accuracy_score(y_train,knnmodel.predict(X_train))\n",
    "    acc_test[i]=accuracy_score(y_test,knnmodel.predict(X_test))"
   ]
  },
  {
   "cell_type": "code",
   "execution_count": 7,
   "metadata": {},
   "outputs": [
    {
     "data": {
      "text/plain": [
       "<matplotlib.legend.Legend at 0x1113d36d8>"
      ]
     },
     "execution_count": 7,
     "metadata": {},
     "output_type": "execute_result"
    },
    {
     "data": {
      "image/png": "[encoded data removed]",
      "text/plain": [
       "<Figure size 432x288 with 1 Axes>"
      ]
     },
     "metadata": {},
     "output_type": "display_data"
    }
   ],
   "source": [
    "plt.plot(np.arange(1,30,2),acc_train,'k-*',label='training_acc')\n",
    "plt.plot(np.arange(1,30,2),acc_test,'r-+',label='testing_acc')\n",
    "plt.legend(loc=9, bbox_to_anchor=(+1.2, 0.6))"
   ]
  },
  {
   "cell_type": "code",
   "execution_count": 8,
   "metadata": {},
   "outputs": [
    {
     "name": "stdout",
     "output_type": "stream",
     "text": [
      "   Sepal_length  Sepal_width\n",
      "0           4.0          2.0\n",
      "1           4.1          2.0\n",
      "2           4.2          2.0\n",
      "3           4.3          2.0\n",
      "4           4.4          2.0\n",
      "5           4.5          2.0\n",
      "6           4.6          2.0\n",
      "7           4.7          2.0\n",
      "8           4.8          2.0\n",
      "9           4.9          2.0\n"
     ]
    }
   ],
   "source": [
    "px1 = np.arange(4, 8, 0.1)\n",
    "px2 = np.arange(2,4.5,0.05)\n",
    "xv, yv = np.meshgrid(px1, px2)\n",
    "iris_gridFeatures = pd.DataFrame(np.column_stack((xv.flatten(),yv.flatten())),columns=['Sepal_length', 'Sepal_width'])\n",
    "print(iris_gridFeatures.head(10))"
   ]
  },
  {
   "cell_type": "markdown",
   "metadata": {},
   "source": [
    "# Exercise 2: Expected prediction error"
   ]
  },
  {
   "cell_type": "markdown",
   "metadata": {},
   "source": [
    "We can compute, for a grid of threshold values, the average\n",
    "prediction error for each of these threshold values, as:\n",
    "\\begin{eqnarray*}\n",
    "\\textrm{EPE}(f_t) & = &  P(X < t \\mid Y = 1)/2 +  P(X\n",
    "\\geq t \\mid Y = 0)/2 \\\\\n",
    "%& = & 0.5 \\int_{-\\infty}^t \\phi_3(t) \\mathrm{d} t + 0.5 \\int_t^{\\infty} \\phi_0(t) \\mathrm{d} t \\\\\n",
    "& = & (\\Phi_3(t) + 1 - \\Phi_0(t))/2.\\\\\n",
    "& \\text{because} & X | (Y=1) \\sim N (3,1),X | (Y=0) \\sim N (0,1)\n",
    "\\end{eqnarray*}\n",
    "Note that $\\Phi_{\\mu}$ is the cumulative distribution function for the normal\n",
    "distribution with mean $\\mu$ and variance 1."
   ]
  },
  {
   "cell_type": "markdown",
   "metadata": {},
   "source": [
    "We can plot the theoretical EPE with:"
   ]
  },
  {
   "cell_type": "code",
   "execution_count": 10,
   "metadata": {},
   "outputs": [
    {
     "data": {
      "text/plain": [
       "[<matplotlib.lines.Line2D at 0x111522518>]"
      ]
     },
     "execution_count": 10,
     "metadata": {},
     "output_type": "execute_result"
    },
    {
     "data": {
      "image/png": "[encoded data removed]",
      "text/plain": [
       "<Figure size 432x288 with 1 Axes>"
      ]
     },
     "metadata": {},
     "output_type": "display_data"
    }
   ],
   "source": [
    "from scipy.stats import norm\n",
    "def theoMisclas(t):\n",
    "    return (norm.cdf(t,3,1)+1-norm.cdf(t))/2\n",
    "\n",
    "thres = np.arange(-4, 8, 0.01)\n",
    "theoEPE = theoMisclas(thres)\n",
    "plt.figure()\n",
    "plt.plot(thres,theoEPE,color='blue',label='Theoretical')"
   ]
  },
  {
   "cell_type": "markdown",
   "metadata": {},
   "source": [
    "We can compute the optimal $\\hat{t}$, as:\n",
    "\\begin{eqnarray*}\n",
    "\\hat{t} &=& \\textrm{argmin}_t\\textrm{EPE}(f_t) \\\\\n",
    "& = &\\textrm{argmin}_t (\\Phi_3(t) + 1 - \\Phi_0(t))/2.\\\\\n",
    "& = &\\textrm{argmin}_t\\left(\\textrm{erf}\\left(\\frac{t-3}{\\sqrt{2}}\\right)-\\textrm{erf}\\left(\\frac{t}{\\sqrt{2}}\\right)\\right)\\\\\n",
    "\\end{eqnarray*}\n",
    "Take the derivative of the above function and set it to $0$, so $f(t|3,1)=f(t|0,1)->(t-3)^2=t^2->t=1.5$"
   ]
  },
  {
   "cell_type": "markdown",
   "metadata": {},
   "source": [
    "The simulation can be done as follows:"
   ]
  },
  {
   "cell_type": "code",
   "execution_count": 11,
   "metadata": {},
   "outputs": [],
   "source": [
    "import numpy as np\n",
    "N = 1000\n",
    "Y = np.random.binomial(1, 0.5 ,N) # Random number generated from Binomial distribution\n",
    "mu = 3*Y\n",
    "X = np.random.normal(mu,1,N)"
   ]
  },
  {
   "cell_type": "markdown",
   "metadata": {
    "collapsed": true
   },
   "source": [
    "This is just one way, where we use that <b>random.normal</b> take a\n",
    "vector as mean values.\n",
    "\n",
    "The density plot shows the empirical\n",
    "marginal distribution of $X$ and the empirical conditional distributions of $X$\n",
    "divided according to the two groups."
   ]
  },
  {
   "cell_type": "code",
   "execution_count": 13,
   "metadata": {},
   "outputs": [
    {
     "name": "stderr",
     "output_type": "stream",
     "text": [
      "/usr/local/lib/python3.6/site-packages/matplotlib/axes/_axes.py:6462: UserWarning: The 'normed' kwarg is deprecated, and has been replaced by the 'density' kwarg.\n",
      "  warnings.warn(\"The 'normed' kwarg is deprecated, and has been \"\n"
     ]
    },
    {
     "data": {
      "text/plain": [
       "<matplotlib.legend.Legend at 0x111be7da0>"
      ]
     },
     "execution_count": 13,
     "metadata": {},
     "output_type": "execute_result"
    },
    {
     "data": {
      "image/png": "[encoded data removed]",
      "text/plain": [
       "<Figure size 432x288 with 1 Axes>"
      ]
     },
     "metadata": {},
     "output_type": "display_data"
    }
   ],
   "source": [
    "bins = 13\n",
    "plt.hist(X[Y==1], bins=bins,normed=True, color='r', alpha=1.0, label='Group 0',range = (np.min(X),np.max(X)))\n",
    "plt.hist(X[Y==0], bins=bins,normed=True, color='b', alpha=1.0, label='Group 1',range = (np.min(X),np.max(X)))\n",
    "plt.hist(X,bins=bins,normed=True, color='g', alpha=0.7)\n",
    "plt.xlabel('X')\n",
    "plt.ylabel('Density')\n",
    "plt.legend(loc=9, bbox_to_anchor=(+1.2, 0.6))"
   ]
  },
  {
   "cell_type": "markdown",
   "metadata": {},
   "source": [
    "We compute the empirical error function as:"
   ]
  },
  {
   "cell_type": "code",
   "execution_count": 41,
   "metadata": {},
   "outputs": [
    {
     "data": {
      "text/plain": [
       "<matplotlib.legend.Legend at 0x1a2181fd68>"
      ]
     },
     "execution_count": 41,
     "metadata": {},
     "output_type": "execute_result"
    },
    {
     "data": {
      "image/png": "[encoded data removed]",
      "text/plain": [
       "<matplotlib.figure.Figure at 0x1a21e85550>"
      ]
     },
     "metadata": {},
     "output_type": "display_data"
    }
   ],
   "source": [
    "from scipy.stats import norm\n",
    "def aveMisclas(t):\n",
    "    return np.mean((X >= t) != Y)\n",
    "\n",
    "\n",
    "thres = np.arange(-4, 8, 0.01)\n",
    "aveMisclasFunc = np.vectorize(aveMisclas)\n",
    "empEPE = aveMisclasFunc(thres)\n",
    "\n",
    "plt.figure()\n",
    "plt.plot(thres, empEPE,color='red',label='Experimental')\n",
    "plt.plot(thres,theoEPE,color='blue',label='Theoretical')\n",
    "plt.xlabel('Thresholds')\n",
    "plt.ylabel('Misclassification rate')\n",
    "plt.legend(loc=9, bbox_to_anchor=(+1.2, 0.6))"
   ]
  },
  {
   "cell_type": "markdown",
   "metadata": {},
   "source": [
    "## Exercise 3 (optional): Analysis of Data on Hepatitis C"
   ]
  },
  {
   "cell_type": "code",
   "execution_count": 43,
   "metadata": {},
   "outputs": [
    {
     "data": {
      "text/html": [
       "<div>\n",
       "<style scoped>\n",
       "    .dataframe tbody tr th:only-of-type {\n",
       "        vertical-align: middle;\n",
       "    }\n",
       "\n",
       "    .dataframe tbody tr th {\n",
       "        vertical-align: top;\n",
       "    }\n",
       "\n",
       "    .dataframe thead th {\n",
       "        text-align: right;\n",
       "    }\n",
       "</style>\n",
       "<table border=\"1\" class=\"dataframe\">\n",
       "  <thead>\n",
       "    <tr style=\"text-align: right;\">\n",
       "      <th></th>\n",
       "      <th>segment</th>\n",
       "      <th>pos</th>\n",
       "      <th>nucleotide.77</th>\n",
       "      <th>nucleotide.90</th>\n",
       "    </tr>\n",
       "  </thead>\n",
       "  <tbody>\n",
       "    <tr>\n",
       "      <th>1</th>\n",
       "      <td>A</td>\n",
       "      <td>42</td>\n",
       "      <td>G</td>\n",
       "      <td>A</td>\n",
       "    </tr>\n",
       "    <tr>\n",
       "      <th>2</th>\n",
       "      <td>A</td>\n",
       "      <td>275</td>\n",
       "      <td>C</td>\n",
       "      <td>T</td>\n",
       "    </tr>\n",
       "    <tr>\n",
       "      <th>3</th>\n",
       "      <td>A</td>\n",
       "      <td>348</td>\n",
       "      <td>C</td>\n",
       "      <td>T</td>\n",
       "    </tr>\n",
       "    <tr>\n",
       "      <th>4</th>\n",
       "      <td>A</td>\n",
       "      <td>447</td>\n",
       "      <td>A</td>\n",
       "      <td>G</td>\n",
       "    </tr>\n",
       "    <tr>\n",
       "      <th>5</th>\n",
       "      <td>A</td>\n",
       "      <td>556</td>\n",
       "      <td>G</td>\n",
       "      <td>A</td>\n",
       "    </tr>\n",
       "  </tbody>\n",
       "</table>\n",
       "</div>"
      ],
      "text/plain": [
       "  segment  pos nucleotide.77 nucleotide.90\n",
       "1       A   42             G             A\n",
       "2       A  275             C             T\n",
       "3       A  348             C             T\n",
       "4       A  447             A             G\n",
       "5       A  556             G             A"
      ]
     },
     "execution_count": 43,
     "metadata": {},
     "output_type": "execute_result"
    }
   ],
   "source": [
    "import pandas as pd\n",
    "HepCevol = pd.read_csv(\"HepCevol.txt\",delimiter=' ')\n",
    "HepCevol.head(5)"
   ]
  },
  {
   "cell_type": "code",
   "execution_count": 44,
   "metadata": {},
   "outputs": [
    {
     "data": {
      "text/html": [
       "<div>\n",
       "<style scoped>\n",
       "    .dataframe tbody tr th:only-of-type {\n",
       "        vertical-align: middle;\n",
       "    }\n",
       "\n",
       "    .dataframe tbody tr th {\n",
       "        vertical-align: top;\n",
       "    }\n",
       "\n",
       "    .dataframe thead th {\n",
       "        text-align: right;\n",
       "    }\n",
       "</style>\n",
       "<table border=\"1\" class=\"dataframe\">\n",
       "  <thead>\n",
       "    <tr style=\"text-align: right;\">\n",
       "      <th></th>\n",
       "      <th>segment</th>\n",
       "      <th>pos</th>\n",
       "      <th>nucleotide.77</th>\n",
       "      <th>nucleotide.90</th>\n",
       "    </tr>\n",
       "  </thead>\n",
       "  <tbody>\n",
       "    <tr>\n",
       "      <th>79</th>\n",
       "      <td>B</td>\n",
       "      <td>102</td>\n",
       "      <td>T</td>\n",
       "      <td>C</td>\n",
       "    </tr>\n",
       "    <tr>\n",
       "      <th>80</th>\n",
       "      <td>B</td>\n",
       "      <td>105</td>\n",
       "      <td>G</td>\n",
       "      <td>T</td>\n",
       "    </tr>\n",
       "    <tr>\n",
       "      <th>81</th>\n",
       "      <td>B</td>\n",
       "      <td>150</td>\n",
       "      <td>T</td>\n",
       "      <td>C</td>\n",
       "    </tr>\n",
       "    <tr>\n",
       "      <th>82</th>\n",
       "      <td>B</td>\n",
       "      <td>190</td>\n",
       "      <td>C</td>\n",
       "      <td>T</td>\n",
       "    </tr>\n",
       "    <tr>\n",
       "      <th>83</th>\n",
       "      <td>B</td>\n",
       "      <td>196</td>\n",
       "      <td>G</td>\n",
       "      <td>A</td>\n",
       "    </tr>\n",
       "    <tr>\n",
       "      <th>84</th>\n",
       "      <td>B</td>\n",
       "      <td>198</td>\n",
       "      <td>T</td>\n",
       "      <td>A</td>\n",
       "    </tr>\n",
       "    <tr>\n",
       "      <th>85</th>\n",
       "      <td>B</td>\n",
       "      <td>201</td>\n",
       "      <td>T</td>\n",
       "      <td>C</td>\n",
       "    </tr>\n",
       "    <tr>\n",
       "      <th>86</th>\n",
       "      <td>B</td>\n",
       "      <td>206</td>\n",
       "      <td>A</td>\n",
       "      <td>G</td>\n",
       "    </tr>\n",
       "    <tr>\n",
       "      <th>87</th>\n",
       "      <td>B</td>\n",
       "      <td>303</td>\n",
       "      <td>T</td>\n",
       "      <td>C</td>\n",
       "    </tr>\n",
       "    <tr>\n",
       "      <th>88</th>\n",
       "      <td>B</td>\n",
       "      <td>403</td>\n",
       "      <td>C</td>\n",
       "      <td>T</td>\n",
       "    </tr>\n",
       "    <tr>\n",
       "      <th>89</th>\n",
       "      <td>B</td>\n",
       "      <td>444</td>\n",
       "      <td>T</td>\n",
       "      <td>C</td>\n",
       "    </tr>\n",
       "    <tr>\n",
       "      <th>90</th>\n",
       "      <td>B</td>\n",
       "      <td>516</td>\n",
       "      <td>C</td>\n",
       "      <td>T</td>\n",
       "    </tr>\n",
       "    <tr>\n",
       "      <th>91</th>\n",
       "      <td>B</td>\n",
       "      <td>519</td>\n",
       "      <td>C</td>\n",
       "      <td>A</td>\n",
       "    </tr>\n",
       "    <tr>\n",
       "      <th>92</th>\n",
       "      <td>B</td>\n",
       "      <td>524</td>\n",
       "      <td>A</td>\n",
       "      <td>G</td>\n",
       "    </tr>\n",
       "    <tr>\n",
       "      <th>93</th>\n",
       "      <td>B</td>\n",
       "      <td>543</td>\n",
       "      <td>A</td>\n",
       "      <td>G</td>\n",
       "    </tr>\n",
       "    <tr>\n",
       "      <th>94</th>\n",
       "      <td>B</td>\n",
       "      <td>558</td>\n",
       "      <td>T</td>\n",
       "      <td>C</td>\n",
       "    </tr>\n",
       "    <tr>\n",
       "      <th>95</th>\n",
       "      <td>B</td>\n",
       "      <td>610</td>\n",
       "      <td>A</td>\n",
       "      <td>G</td>\n",
       "    </tr>\n",
       "    <tr>\n",
       "      <th>96</th>\n",
       "      <td>B</td>\n",
       "      <td>636</td>\n",
       "      <td>T</td>\n",
       "      <td>A</td>\n",
       "    </tr>\n",
       "    <tr>\n",
       "      <th>97</th>\n",
       "      <td>B</td>\n",
       "      <td>996</td>\n",
       "      <td>A</td>\n",
       "      <td>G</td>\n",
       "    </tr>\n",
       "    <tr>\n",
       "      <th>98</th>\n",
       "      <td>B</td>\n",
       "      <td>1014</td>\n",
       "      <td>G</td>\n",
       "      <td>C</td>\n",
       "    </tr>\n",
       "    <tr>\n",
       "      <th>99</th>\n",
       "      <td>B</td>\n",
       "      <td>1059</td>\n",
       "      <td>C</td>\n",
       "      <td>T</td>\n",
       "    </tr>\n",
       "    <tr>\n",
       "      <th>100</th>\n",
       "      <td>B</td>\n",
       "      <td>1227</td>\n",
       "      <td>C</td>\n",
       "      <td>T</td>\n",
       "    </tr>\n",
       "    <tr>\n",
       "      <th>101</th>\n",
       "      <td>B</td>\n",
       "      <td>1230</td>\n",
       "      <td>C</td>\n",
       "      <td>T</td>\n",
       "    </tr>\n",
       "    <tr>\n",
       "      <th>102</th>\n",
       "      <td>B</td>\n",
       "      <td>1249</td>\n",
       "      <td>C</td>\n",
       "      <td>T</td>\n",
       "    </tr>\n",
       "    <tr>\n",
       "      <th>103</th>\n",
       "      <td>B</td>\n",
       "      <td>1263</td>\n",
       "      <td>C</td>\n",
       "      <td>T</td>\n",
       "    </tr>\n",
       "  </tbody>\n",
       "</table>\n",
       "</div>"
      ],
      "text/plain": [
       "    segment   pos nucleotide.77 nucleotide.90\n",
       "79        B   102             T             C\n",
       "80        B   105             G             T\n",
       "81        B   150             T             C\n",
       "82        B   190             C             T\n",
       "83        B   196             G             A\n",
       "84        B   198             T             A\n",
       "85        B   201             T             C\n",
       "86        B   206             A             G\n",
       "87        B   303             T             C\n",
       "88        B   403             C             T\n",
       "89        B   444             T             C\n",
       "90        B   516             C             T\n",
       "91        B   519             C             A\n",
       "92        B   524             A             G\n",
       "93        B   543             A             G\n",
       "94        B   558             T             C\n",
       "95        B   610             A             G\n",
       "96        B   636             T             A\n",
       "97        B   996             A             G\n",
       "98        B  1014             G             C\n",
       "99        B  1059             C             T\n",
       "100       B  1227             C             T\n",
       "101       B  1230             C             T\n",
       "102       B  1249             C             T\n",
       "103       B  1263             C             T"
      ]
     },
     "execution_count": 44,
     "metadata": {},
     "output_type": "execute_result"
    }
   ],
   "source": [
    "HepCevol.loc[HepCevol['segment']=='B']"
   ]
  },
  {
   "cell_type": "markdown",
   "metadata": {},
   "source": [
    "First we write a function that, given $\\alpha$ and time value, returns the matrix of\n",
    "transition probabilities. The default is time = 1 to make the function work even if we don't\n",
    "specify time."
   ]
  },
  {
   "cell_type": "code",
   "execution_count": 45,
   "metadata": {},
   "outputs": [],
   "source": [
    "def tpJC(alpha,time=1):\n",
    "    z = -4*alpha*time\n",
    "    xx = 0.25+0.75*np.exp(z)\n",
    "    xy = 0.25-0.25*np.exp(z)\n",
    "    tp = np.ones((4,4))*xy\n",
    "    np.fill_diagonal(tp,xx)\n",
    "    return tp"
   ]
  },
  {
   "cell_type": "code",
   "execution_count": 46,
   "metadata": {},
   "outputs": [
    {
     "name": "stdout",
     "output_type": "stream",
     "text": [
      "[[9.98501499e-01 4.99500333e-04 4.99500333e-04 4.99500333e-04]\n",
      " [4.99500333e-04 9.98501499e-01 4.99500333e-04 4.99500333e-04]\n",
      " [4.99500333e-04 4.99500333e-04 9.98501499e-01 4.99500333e-04]\n",
      " [4.99500333e-04 4.99500333e-04 4.99500333e-04 9.98501499e-01]]\n"
     ]
    }
   ],
   "source": [
    "M = tpJC(0.0005,1)\n",
    "print(M)"
   ]
  },
  {
   "cell_type": "markdown",
   "metadata": {},
   "source": [
    "To calculate the log likelihood function (mll) we introduce $n_{x,y}$ as the number of observed mutations of $x$ to $y$, and rewrite \n",
    "\\begin{eqnarray*}\n",
    " l(t, p, \\alpha) &=& log \\mathcal L (t,p,a) \\\\\n",
    " &=& log {\\sum_{x,y}}p(x)^{n_{xy}}*P_\\alpha^t(x,y)^{n_{xy}}\\\\\n",
    " &=& log {\\sum_{x,y}}p(x)^{n_{xy}}+ log{\\sum_{x,y}}P_\\alpha^t(x,y)^{n_{xy}} \\\\\n",
    " &=& log {\\sum_{x,y}}p(x)^{n_{xy}}+ n_{xy}log{\\sum_{x,y}}P_\\alpha^t(x,y).\n",
    "\\end{eqnarray*}\n",
    "Observe that the first term depends upon $p$ only, which we assume to be constant and the second term on $ \\alpha$ ($t=13$ in $\\texttt{HepCevol}$) only. To find\n",
    "the MLE we only need to minimize the second term. Hence, we have:\n"
   ]
  },
  {
   "cell_type": "code",
   "execution_count": 54,
   "metadata": {},
   "outputs": [],
   "source": [
    "def mll(alpha,mutation_counts,time=1,tp = tpJC):\n",
    "    return sum((np.log(tp(alpha,time))*mutation_counts).flatten())"
   ]
  },
  {
   "cell_type": "markdown",
   "metadata": {},
   "source": [
    "To estimate $\\alpha$ using MLE we need to minimize the above log likelood by taking its derivative on $\\alpha$. \n",
    "$$ \\sum_{x\\neq y}\\frac{n_{x,y}}{P_\\alpha^t(x,y)}(-\\frac{1}{4}e^{-4\\alpha t}(-4t))+\\sum_{x}\\frac{n_{x,x}}{P_\\alpha^t(x,x)}(\\frac{3}{4}e^{-4\\alpha t}(-4t))=0$$\n",
    "Using basic calculus, we obtain the unique maximum likelihood estimator to $\\hat \\alpha$ given as\n",
    "$$ \\hat \\alpha = \\frac{1}{4t} \\log \\frac{3(n_1+n_2)}{3 n_1 - n_2} = \\frac{1}{4t} \\log \\frac{3n}{3 n_1 - n_2}$$\n",
    "with $n_1 = \\sum_x n_{x,x}$ and $n_2 = \\sum_{x \\neq y} n_{x,y}$ and if and only if $3n_1>n_2.$\n",
    "\n",
    "We implement the computation of the MLE for the given probabilistic model based on a tabulation of the\n",
    "transitions."
   ]
  },
  {
   "cell_type": "code",
   "execution_count": 47,
   "metadata": {},
   "outputs": [],
   "source": [
    "def alphahat(mutation_counts,t):\n",
    "    n1 = sum(np.diag(mutation_counts))\n",
    "    n2 = sum(mutation_counts.flatten())-n1\n",
    "    if 3*n1>n2:\n",
    "        alpha = np.log(3*(n1+n2)/(3*n1-n2))/(4*t)\n",
    "    else:\n",
    "        alpha = -1 * np.inf\n",
    "    return alpha"
   ]
  },
  {
   "cell_type": "markdown",
   "metadata": {},
   "source": [
    "Then we tabulate our data for the three segments and compute the MLEs."
   ]
  },
  {
   "cell_type": "markdown",
   "metadata": {},
   "source": [
    "Segment A, the diagnoal terms are $[470, 761, 746, 555]$"
   ]
  },
  {
   "cell_type": "code",
   "execution_count": 50,
   "metadata": {},
   "outputs": [
    {
     "name": "stdout",
     "output_type": "stream",
     "text": [
      "xSegA: [[470.   1.  11.   1.]\n",
      " [  4. 761.   1.  20.]\n",
      " [ 13.   3. 746.   1.]\n",
      " [  3.  19.   1. 555.]]\n",
      "alphahat_A: 0.0007819685550139501\n"
     ]
    }
   ],
   "source": [
    "xSegA = np.zeros((4,4))\n",
    "nucleotide = ['A','C','G','T']\n",
    "for i in np.arange(4):\n",
    "    for j in np.arange(4):\n",
    "        if j!=i:\n",
    "            xSegA[i,j]= len(HepCevol[((HepCevol['segment']=='A')& (HepCevol['nucleotide.77']==nucleotide[i])) & (HepCevol['nucleotide.90']==nucleotide[j])])\n",
    "np.fill_diagonal(xSegA, [470, 761, 746, 555])\n",
    "print('xSegA:',xSegA)\n",
    "alphahat_A = alphahat(xSegA,13)\n",
    "print('alphahat_A:',alphahat_A)"
   ]
  },
  {
   "cell_type": "markdown",
   "metadata": {},
   "source": [
    "SegmentB, the diagnoal terms are $[252, 389, 347, 271]$"
   ]
  },
  {
   "cell_type": "code",
   "execution_count": 51,
   "metadata": {},
   "outputs": [
    {
     "name": "stdout",
     "output_type": "stream",
     "text": [
      "xSegB: [[252.   0.   5.   0.]\n",
      " [  1. 389.   0.   8.]\n",
      " [  1.   1. 347.   1.]\n",
      " [  2.   6.   0. 271.]]\n",
      "alphahat_B: 0.0005058358229211719\n"
     ]
    }
   ],
   "source": [
    "xSegB = np.zeros((4,4))\n",
    "nucleotide = ['A','C','G','T']\n",
    "for i in np.arange(4):\n",
    "    for j in np.arange(4):\n",
    "        if j!=i:\n",
    "            xSegB[i,j]= len(HepCevol[((HepCevol['segment']=='B')& (HepCevol['nucleotide.77']==nucleotide[i])) & (HepCevol['nucleotide.90']==nucleotide[j])])\n",
    "np.fill_diagonal(xSegB, [252, 389, 347, 271])\n",
    "print('xSegB:',xSegB)\n",
    "alphahat_B = alphahat(xSegB,13)\n",
    "print('alphahat_B:',alphahat_B)\n"
   ]
  },
  {
   "cell_type": "markdown",
   "metadata": {},
   "source": [
    "SegmentC, the diagnoal terms are $[230, 299, 282, 198]$"
   ]
  },
  {
   "cell_type": "code",
   "execution_count": 52,
   "metadata": {},
   "outputs": [
    {
     "name": "stdout",
     "output_type": "stream",
     "text": [
      "xSegC: [[230.   1.   2.   0.]\n",
      " [  1. 299.   2.   5.]\n",
      " [  4.   0. 282.   0.]\n",
      " [  1.   3.   1. 198.]]\n",
      "alphahat_C: 0.0005049392598775057\n"
     ]
    }
   ],
   "source": [
    "xSegC = np.zeros((4,4))\n",
    "nucleotide = ['A','C','G','T']\n",
    "for i in np.arange(4):\n",
    "    for j in np.arange(4):\n",
    "        if j!=i:\n",
    "            xSegC[i,j]= len(HepCevol[((HepCevol['segment']=='C')& (HepCevol['nucleotide.77']==nucleotide[i])) & (HepCevol['nucleotide.90']==nucleotide[j])])\n",
    "np.fill_diagonal(xSegC, [230, 299, 282, 198])\n",
    "print('xSegC:',xSegC)\n",
    "alphahat_C = alphahat(xSegC,13)\n",
    "print('alphahat_C:',alphahat_C)"
   ]
  },
  {
   "cell_type": "markdown",
   "metadata": {},
   "source": [
    "Make a Plot"
   ]
  },
  {
   "cell_type": "code",
   "execution_count": 55,
   "metadata": {},
   "outputs": [
    {
     "data": {
      "text/plain": [
       "<matplotlib.legend.Legend at 0x1a220761d0>"
      ]
     },
     "execution_count": 55,
     "metadata": {},
     "output_type": "execute_result"
    },
    {
     "data": {
      "image/png": "[encoded data removed]",
      "text/plain": [
       "<matplotlib.figure.Figure at 0x1a2204c9b0>"
      ]
     },
     "metadata": {},
     "output_type": "display_data"
    }
   ],
   "source": [
    "alphaCandi = np.arange(0.0001, 0.003, 0.0001)\n",
    "mllExpA = np.zeros(alphaCandi.shape)\n",
    "mllExpB = np.zeros(alphaCandi.shape)\n",
    "mllExpC = np.zeros(alphaCandi.shape)\n",
    "for i in range(alphaCandi.shape[0]):\n",
    "    mllExpA[i]=mll(alphaCandi[i],xSegA,time=13)\n",
    "    mllExpB[i]=mll(alphaCandi[i],xSegB,time=13)\n",
    "    mllExpC[i]=mll(alphaCandi[i],xSegC,time=13)\n",
    "plt.figure()\n",
    "plt.plot(alphaCandi,mllExpA,color='red',label='segmentA')\n",
    "plt.scatter(alphahat_A,mll(alphahat_A,xSegA,time=13),color='red')\n",
    "plt.plot(alphaCandi,mllExpB,color='blue',label='segmentB')\n",
    "plt.scatter(alphahat_B,mll(alphahat_B,xSegB,time=13),color='blue')\n",
    "plt.plot(alphaCandi,mllExpC,color='green',label='segmentC')\n",
    "plt.scatter(alphahat_C,mll(alphahat_C,xSegC,time=13),color='green')\n",
    "plt.legend(loc=9, bbox_to_anchor=(+1.2, 0.6))"
   ]
  },
  {
   "cell_type": "code",
   "execution_count": null,
   "metadata": {
    "collapsed": true
   },
   "outputs": [],
   "source": []
  }
 ],
 "metadata": {
  "kernelspec": {
   "display_name": "Python 3",
   "language": "python",
   "name": "python3"
  },
  "language_info": {
   "codemirror_mode": {
    "name": "ipython",
    "version": 3
   },
   "file_extension": ".py",
   "mimetype": "text/x-python",
   "name": "python",
   "nbconvert_exporter": "python",
   "pygments_lexer": "ipython3",
   "version": "3.6.5"
  }
 },
 "nbformat": 4,
 "nbformat_minor": 1
}
